{
 "cells": [
  {
   "cell_type": "markdown",
   "id": "44d9243d-23dd-46c1-90ac-cb8cd5b07c1d",
   "metadata": {},
   "source": [
    "# Data Science Tools and Ecosystem"
   ]
  },
  {
   "cell_type": "markdown",
   "id": "278fd4bf-3592-491b-9e28-425b4d7f8a3f",
   "metadata": {},
   "source": [
    "In this notebook, Data Science Tools and Ecosystem are summarized."
   ]
  },
  {
   "cell_type": "markdown",
   "id": "7de8d717-d630-4427-86f0-09ffd56116a1",
   "metadata": {},
   "source": [
    "**Objectives:**\n",
    "\n",
    "- List popular languages for Data Science\n",
    "- List commonly used libraries in Data Science\n",
    "- Identify open source development tools for Data Science\n",
    "- Evaluate simple arithmetic expressions in Python\n",
    "- Convert minutes into hours using Python"
   ]
  },
  {
   "cell_type": "markdown",
   "id": "8e0c224c-7211-4b10-960f-8a021110e73e",
   "metadata": {},
   "source": [
    "Some of the popular languages that Data Scientists use are:"
   ]
  },
  {
   "cell_type": "markdown",
   "id": "25f37120-4370-44a3-9e00-83b547aa2584",
   "metadata": {},
   "source": [
    "1. Python  \n",
    "2. R  \n",
    "3. SQL  \n",
    "4. Julia  \n",
    "5. Scala"
   ]
  },
  {
   "cell_type": "markdown",
   "id": "dbb76abf-9576-4f61-ad88-8fcbe72e980b",
   "metadata": {},
   "source": [
    "Some of the commonly used libraries used by Data Scientists include:"
   ]
  },
  {
   "cell_type": "markdown",
   "id": "6b5aa9db-0fa9-4790-b15c-93ea0007973b",
   "metadata": {},
   "source": [
    "1. Pandas  \n",
    "2. NumPy  \n",
    "3. Matplotlib  \n",
    "4. Scikit-learn  \n",
    "5. TensorFlow"
   ]
  },
  {
   "cell_type": "markdown",
   "id": "56d44417-c308-4b30-a709-f717354cdf23",
   "metadata": {},
   "source": [
    "| Data Science Tools |\n",
    "|---------------------|\n",
    "| Jupyter Notebook    |\n",
    "| RStudio             |\n",
    "| Visual Studio Core  |"
   ]
  },
  {
   "cell_type": "markdown",
   "id": "a8b6d634-60fd-4e91-be2c-0fb19e92de19",
   "metadata": {},
   "source": [
    "### Below are a few examples of evaluating arithmetic expressions in Python"
   ]
  },
  {
   "cell_type": "markdown",
   "id": "7c43a8c9-c19d-4780-a10a-89e051db0b7b",
   "metadata": {},
   "source": [
    "This a simple arithmetic expression to mutiply then add integers"
   ]
  },
  {
   "cell_type": "code",
   "execution_count": 3,
   "id": "8ccf251d-28a5-4789-ae2c-14a7f3811936",
   "metadata": {},
   "outputs": [
    {
     "data": {
      "text/plain": [
       "17"
      ]
     },
     "execution_count": 3,
     "metadata": {},
     "output_type": "execute_result"
    }
   ],
   "source": [
    "(3*4)+5"
   ]
  },
  {
   "cell_type": "markdown",
   "id": "45965f2d-8d77-4eef-9fa5-1c06ec22d3fc",
   "metadata": {},
   "source": [
    "This will convert 200 minutes to hours by diving by 60"
   ]
  },
  {
   "cell_type": "code",
   "execution_count": 4,
   "id": "86cb7962-3493-46bd-8c1a-6b4d4df0e123",
   "metadata": {},
   "outputs": [
    {
     "data": {
      "text/plain": [
       "3.3333333333333335"
      ]
     },
     "execution_count": 4,
     "metadata": {},
     "output_type": "execute_result"
    }
   ],
   "source": [
    "200 / 60"
   ]
  },
  {
   "cell_type": "markdown",
   "id": "60020820-55ce-4933-8da7-a2d938eff286",
   "metadata": {},
   "source": [
    "## Author\n",
    "Maria Alice"
   ]
  },
  {
   "cell_type": "code",
   "execution_count": null,
   "id": "6c5343d6-5d1a-45ac-8761-505f910998b2",
   "metadata": {},
   "outputs": [],
   "source": []
  }
 ],
 "metadata": {
  "kernelspec": {
   "display_name": "Python 3 (ipykernel)",
   "language": "python",
   "name": "python3"
  },
  "language_info": {
   "codemirror_mode": {
    "name": "ipython",
    "version": 3
   },
   "file_extension": ".py",
   "mimetype": "text/x-python",
   "name": "python",
   "nbconvert_exporter": "python",
   "pygments_lexer": "ipython3",
   "version": "3.13.7"
  }
 },
 "nbformat": 4,
 "nbformat_minor": 5
}
